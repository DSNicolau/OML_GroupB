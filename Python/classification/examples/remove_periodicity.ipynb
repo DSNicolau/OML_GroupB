{
 "cells": [
  {
   "cell_type": "code",
   "execution_count": 17,
   "metadata": {},
   "outputs": [],
   "source": [
    "import sys\n",
    "\n",
    "sys.path.append(\"/home/danielnicolau/Documents/GitHub/OML_GroupB/Python/classification\")\n",
    "sys.path.append(\"/home/danielnicolau/Documents/GitHub/OML_GroupB/\")\n",
    "import utils\n",
    "import preprocessing\n",
    "import evaluation\n",
    "import pandas as pd\n",
    "import numpy as np"
   ]
  },
  {
   "cell_type": "code",
   "execution_count": 19,
   "metadata": {},
   "outputs": [],
   "source": [
    "data_pd = pd.read_excel(\"/home/danielnicolau/Documents/GitHub/OML_GroupB/data/Datasets_Group_B.xlsx\", \"Classification\")\n",
    "data_pd.dropna(inplace=True)\n",
    "total_size = len(data_pd)\n",
    "train_size = int(total_size * 0.64)\n",
    "val_size = int(total_size * 0.16)\n",
    "train_data = data_pd.iloc[:train_size]\n",
    "val_data = data_pd.iloc[train_size : train_size + val_size]\n",
    "test_data = data_pd.iloc[train_size + val_size :]"
   ]
  },
  {
   "cell_type": "code",
   "execution_count": 20,
   "metadata": {},
   "outputs": [],
   "source": [
    "train_data, train_label = utils.get_numpy_features(train_data)\n",
    "val_data, val_label = utils.get_numpy_features(val_data)\n",
    "test_data, test_label = utils.get_numpy_features(test_data)"
   ]
  },
  {
   "cell_type": "code",
   "execution_count": 22,
   "metadata": {},
   "outputs": [
    {
     "data": {
      "text/plain": [
       "array([19.56666667, 19.66      , 19.67      , ..., 21.11      ,\n",
       "       21.08666667, 21.08      ])"
      ]
     },
     "execution_count": 22,
     "metadata": {},
     "output_type": "execute_result"
    }
   ],
   "source": [
    "temperature_data = train_data[:,5]\n",
    "temperature_data"
   ]
  },
  {
   "cell_type": "code",
   "execution_count": 25,
   "metadata": {},
   "outputs": [
    {
     "data": {
      "text/plain": [
       "array([1833200.37833333    -0.j        ,  -35365.42333548+21926.70078765j,\n",
       "          2631.57505416 +6989.64174912j, ...,\n",
       "         11747.38754191 +9554.63990969j,    2631.57505416 -6989.64174912j,\n",
       "        -35365.42333548-21926.70078765j])"
      ]
     },
     "execution_count": 25,
     "metadata": {},
     "output_type": "execute_result"
    }
   ],
   "source": [
    "from scipy.fft import fft, fftfreq\n",
    "fourier_transform = fft(temperature_data)\n",
    "fourier_transform"
   ]
  },
  {
   "cell_type": "code",
   "execution_count": 27,
   "metadata": {},
   "outputs": [],
   "source": [
    "sampling_rate = 1"
   ]
  },
  {
   "cell_type": "code",
   "execution_count": 28,
   "metadata": {},
   "outputs": [],
   "source": [
    "frequencies = fftfreq(len(temperature_data), d=1/sampling_rate)"
   ]
  },
  {
   "cell_type": "code",
   "execution_count": 35,
   "metadata": {},
   "outputs": [
    {
     "data": {
      "image/png": "[encoded data removed]",
      "text/plain": [
       "<Figure size 640x480 with 1 Axes>"
      ]
     },
     "metadata": {},
     "output_type": "display_data"
    }
   ],
   "source": [
    "import matplotlib.pyplot as plt\n",
    "plt.plot(frequencies, np.abs(fourier_transform)**2)\n",
    "plt.xlabel('Frequency (Hz)')\n",
    "plt.ylabel('Power Spectrum')\n",
    "plt.show()"
   ]
  },
  {
   "cell_type": "code",
   "execution_count": 39,
   "metadata": {},
   "outputs": [],
   "source": [
    "x = sorted(np.abs(fourier_transform)**2)\n"
   ]
  },
  {
   "cell_type": "code",
   "execution_count": 42,
   "metadata": {},
   "outputs": [
    {
     "data": {
      "text/plain": [
       "3360623627121.476"
      ]
     },
     "execution_count": 42,
     "metadata": {},
     "output_type": "execute_result"
    }
   ],
   "source": [
    "max(x)\n"
   ]
  }
 ],
 "metadata": {
  "kernelspec": {
   "display_name": "Python 3",
   "language": "python",
   "name": "python3"
  },
  "language_info": {
   "codemirror_mode": {
    "name": "ipython",
    "version": 3
   },
   "file_extension": ".py",
   "mimetype": "text/x-python",
   "name": "python",
   "nbconvert_exporter": "python",
   "pygments_lexer": "ipython3",
   "version": "3.10.12"
  }
 },
 "nbformat": 4,
 "nbformat_minor": 2
}
